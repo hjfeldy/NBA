{
  "nbformat": 4,
  "nbformat_minor": 0,
  "metadata": {
    "colab": {
      "name": "Untitled0.ipynb",
      "provenance": []
    },
    "kernelspec": {
      "name": "python3",
      "display_name": "Python 3"
    }
  },
  "cells": [
    {
      "cell_type": "code",
      "metadata": {
        "id": "O7_czy1j4JF-"
      },
      "source": [
        "import pandas as pd\n",
        "import re, pickle"
      ],
      "execution_count": null,
      "outputs": []
    },
    {
      "cell_type": "code",
      "metadata": {
        "id": "HORNwPpm4ZIK"
      },
      "source": [
        "df = pd.read_csv('sample_data/master.csv')\n"
      ],
      "execution_count": null,
      "outputs": []
    },
    {
      "cell_type": "code",
      "metadata": {
        "id": "ycXV4iMDBP7E"
      },
      "source": [
        "\n",
        "df = df.dropna()"
      ],
      "execution_count": null,
      "outputs": []
    },
    {
      "cell_type": "code",
      "metadata": {
        "id": "BwnCXmnHJpHP"
      },
      "source": [
        "reg = re.compile(r'\\w+\\d\\d')"
      ],
      "execution_count": null,
      "outputs": []
    },
    {
      "cell_type": "code",
      "metadata": {
        "id": "VuiBLPQMGEkR",
        "colab": {
          "base_uri": "https://localhost:8080/"
        },
        "outputId": "c953a5ab-7ce1-41d7-9375-d6869810ac4c"
      },
      "source": [
        "#GameID -> Team -> Player\n",
        "#Posessions defined by when someone shoots 2-3 free throws OR a field goal OR turns the ball over\n",
        "#Look for \"makes 2-pt\", \"makes 3-pt\", \"misses 2-pt\", \"misses 3-pt\", \"makes free throw _ of 2\" and \"Turnover by\"\n",
        "home = {'Total': 0}\n",
        "away = {'Total': 0}\n",
        "master = {}\n",
        "errCount = 0\n",
        "for gid in df['GameID'].unique():\n",
        "  master[gid] = {}\n",
        "\n",
        "before = df.iloc[0]['GameID']\n",
        "keyWords = ['makes 2-pt', 'misses 2-pt', 'makes 3-pt', 'misses 3-pt', 'makes free throw 1 of 2', 'misses free throw 1 of 2', 'Turnover by']\n",
        "\n",
        "#Check for posession-ending play (FT, FGA, TOV)\n",
        "def keyCheck(string):\n",
        "  if 'Team' in string:\n",
        "    return False \n",
        "  for key in keyWords:\n",
        "    if key in string:\n",
        "      return True\n",
        "  return False\n",
        "\n",
        "def clear():\n",
        "  global home, away\n",
        "  home = {'Total': 0}\n",
        "  away = {'Total': 0}\n",
        "\n",
        "for row in df.iterrows():\n",
        "  try:\n",
        "    if row[1]['GameID'] != before:\n",
        "      for player in home.keys():\n",
        "        if player == 'Total':\n",
        "          continue\n",
        "        master[before][player] = home[player] / home['Total']\n",
        "      for player in away.keys():\n",
        "        if player == 'Total':\n",
        "          continue\n",
        "        master[before][player] = away[player] / away['Total']\n",
        "        \n",
        "      clear()\n",
        "\n",
        "    homePlay = row[1]['Home']\n",
        "    awayPlay = row[1]['Away']\n",
        "    if keyCheck(homePlay) == False and keyCheck(awayPlay) == False:\n",
        "      continue\n",
        "    \n",
        "    \n",
        "    \n",
        "    elif keyCheck(homePlay):\n",
        "      player = reg.search(homePlay).group(0)\n",
        "      home['Total'] += 1\n",
        "      if player not in home.keys():\n",
        "        home[player] = 1\n",
        "        \n",
        "      else:\n",
        "        home[player] += 1\n",
        "\n",
        "    elif keyCheck(awayPlay):\n",
        "      player = reg.search(awayPlay).group(0)\n",
        "      away['Total'] += 1\n",
        "      if player not in away.keys():\n",
        "        away[player] = 1\n",
        "        \n",
        "      else:\n",
        "        away[player] += 1\n",
        "    before = row[1]['GameID']\n",
        "  except:\n",
        "    errCount += 1\n",
        "  \n",
        "with open('sample_data/possessions.pickle', 'wb') as pik:\n",
        "  pickle.dump(master, pik)\n",
        "\n",
        "ratio = round(errCount / df.shape[0], 4)\n",
        "print(f'Error Ratio: {str(errCount * 100) + \"%\"}')"
      ],
      "execution_count": null,
      "outputs": [
        {
          "output_type": "stream",
          "text": [
            "Error Ratio: 5500%\n"
          ],
          "name": "stdout"
        }
      ]
    },
    {
      "cell_type": "code",
      "metadata": {
        "id": "J-6vet8SHfwU",
        "colab": {
          "base_uri": "https://localhost:8080/"
        },
        "outputId": "04bad493-9bfd-4765-b5a1-f58d9d9c33fd"
      },
      "source": [
        "import os\n",
        "os.listdir()"
      ],
      "execution_count": null,
      "outputs": [
        {
          "output_type": "execute_result",
          "data": {
            "text/plain": [
              "['.config', 'sample_data', 'drive']"
            ]
          },
          "metadata": {
            "tags": []
          },
          "execution_count": 8
        }
      ]
    },
    {
      "cell_type": "code",
      "metadata": {
        "colab": {
          "base_uri": "https://localhost:8080/"
        },
        "id": "kdrQLNUVsiSK",
        "outputId": "bc24617d-4fe7-41cf-a09b-5b8d64f237a7"
      },
      "source": [
        "ratio"
      ],
      "execution_count": null,
      "outputs": [
        {
          "output_type": "execute_result",
          "data": {
            "text/plain": [
              "0.0"
            ]
          },
          "metadata": {
            "tags": []
          },
          "execution_count": 11
        }
      ]
    },
    {
      "cell_type": "code",
      "metadata": {
        "id": "y3V8uV_8snJ5"
      },
      "source": [
        ""
      ],
      "execution_count": null,
      "outputs": []
    }
  ]
}